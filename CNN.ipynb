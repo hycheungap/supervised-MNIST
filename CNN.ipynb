{
  "nbformat": 4,
  "nbformat_minor": 0,
  "metadata": {
    "kernelspec": {
      "display_name": "Python 3",
      "language": "python",
      "name": "python3"
    },
    "language_info": {
      "codemirror_mode": {
        "name": "ipython",
        "version": 3
      },
      "file_extension": ".py",
      "mimetype": "text/x-python",
      "name": "python",
      "nbconvert_exporter": "python",
      "pygments_lexer": "ipython3",
      "version": "3.8.5"
    },
    "colab": {
      "name": "CNN.ipynb",
      "provenance": [],
      "collapsed_sections": []
    }
  },
  "cells": [
    {
      "cell_type": "code",
      "metadata": {
        "id": "untJUrC2lnJo"
      },
      "source": [
        "import pandas as pd \n",
        "import numpy as np\n",
        "import os \n",
        "import matplotlib.pyplot as plt \n",
        "import datetime \n",
        "import tensorflow as tf  \n",
        "from sklearn.metrics import precision_score\n",
        "from sklearn.metrics import recall_score\n",
        "from sklearn.metrics import accuracy_score\n",
        "from sklearn.metrics import f1_score\n",
        "from tensorflow import keras \n",
        "from tensorflow.keras import layers \n",
        "from tensorflow.keras import Sequential  \n",
        "from keras.layers import Dense, Dropout, Activation, Flatten\n",
        "from keras.layers import Conv2D, MaxPool2D\n",
        "from tensorflow.keras.utils import to_categorical \n",
        "import sklearn"
      ],
      "execution_count": null,
      "outputs": []
    },
    {
      "cell_type": "code",
      "metadata": {
        "id": "5oKs1zq2lnJv"
      },
      "source": [
        "trainX = np.load('image-classification-fashion-mnist/train.npy')\n",
        "validationX = np.load('image-classification-fashion-mnist/validation.npy')\n",
        "testX = np.load('image-classification-fashion-mnist/test.npy')\n",
        "trainY = pd.read_csv('image-classification-fashion-mnist/train.csv')\n",
        "validationY = pd.read_csv('image-classification-fashion-mnist/validation.csv')\n",
        "testY = pd.read_csv('image-classification-fashion-mnist/sample_submission.csv')"
      ],
      "execution_count": null,
      "outputs": []
    },
    {
      "cell_type": "code",
      "metadata": {
        "id": "V2oJoWIllnJx"
      },
      "source": [
        "#reshape data\n",
        "trainX =trainX.reshape(trainX.shape[0],28,28,1)\n",
        "validationX = validationX.reshape(validationX.shape[0],28,28,1)\n",
        "testX = testX.reshape(testX.shape[0],28,28,1)\n",
        "#normalization \n",
        "trainX = tf.keras.utils.normalize(trainX, axis=-1, order=2)\n",
        "validationX = tf.keras.utils.normalize(validationX, axis=-1, order=2)\n",
        "testX = tf.keras.utils.normalize(testX, axis=-1, order=2)\n",
        "trainY=np.array(trainY['class'])\n",
        "validationY =np.array(validationY['class'])\n",
        "testY = np.array(testY['class'])\n",
        "trainY = to_categorical (trainY)\n",
        "validationY = to_categorical(validationY)\n",
        "testY = to_categorical(testY)"
      ],
      "execution_count": null,
      "outputs": []
    },
    {
      "cell_type": "code",
      "metadata": {
        "id": "IWFTockVlnJy"
      },
      "source": [
        "#Experiment 1-- Number of convolutional layers \n",
        "nets = 3 \n",
        "model = [0]*nets \n",
        "for j in range(3):\n",
        "    model[j] = Sequential()\n",
        "    model[j].add(Conv2D(24,kernel_size=5,padding='same',activation='relu',\n",
        "            input_shape=(28,28,1)))\n",
        "    model[j].add(MaxPool2D())\n",
        "    if j>0:\n",
        "        model[j].add(Conv2D(48,kernel_size=5,padding='same',activation='relu'))\n",
        "        model[j].add(MaxPool2D())\n",
        "    if j>1:\n",
        "        model[j].add(Conv2D(64,kernel_size=5,padding='same',activation='relu'))\n",
        "        model[j].add(MaxPool2D(padding='same'))\n",
        "    model[j].add(Flatten())\n",
        "    model[j].add(Dense(256, activation='relu'))\n",
        "    model[j].add(Dense(10, activation='sigmoid'))\n",
        "    model[j].compile(optimizer=\"adam\", loss=\"binary_crossentropy\", metrics=[\"accuracy\"])"
      ],
      "execution_count": null,
      "outputs": []
    },
    {
      "cell_type": "code",
      "metadata": {
        "scrolled": true,
        "id": "nXObIbTflnJy"
      },
      "source": [
        "train_result = []\n",
        "for i in range (3):\n",
        "    train = model[i].fit(trainX, trainY,batch_size = 128, epochs = 20,\n",
        "                 validation_data=(validationX,validationY))\n",
        "    train_result.append(train)"
      ],
      "execution_count": null,
      "outputs": []
    },
    {
      "cell_type": "code",
      "metadata": {
        "id": "YaBJD1bxlnJz"
      },
      "source": [
        "print(np.mean(train_result[0].history['accuracy']))\n",
        "print(np.mean(train_result[1].history['accuracy']))\n",
        "print(np.mean(train_result[2].history['accuracy']))"
      ],
      "execution_count": null,
      "outputs": []
    },
    {
      "cell_type": "code",
      "metadata": {
        "id": "eOu7xnr8lnJ0"
      },
      "source": [
        "#Experiment 2 \n",
        "nets = 6\n",
        "model = [0] *nets\n",
        "for j in range(6):\n",
        "    model[j] = Sequential()\n",
        "    model[j].add(Conv2D(j*8+8,kernel_size=5,activation='relu',input_shape=(28,28,1)))\n",
        "    model[j].add(MaxPool2D())\n",
        "#     model[j].add(Conv2D(j*16+16,kernel_size=5,activation='relu'))\n",
        "#     model[j].add(MaxPool2D())\n",
        "    model[j].add(Flatten())\n",
        "    model[j].add(Dense(256, activation='relu'))\n",
        "    model[j].add(Dense(10, activation='sigmoid'))\n",
        "    model[j].compile(optimizer=\"adam\", loss=\"binary_crossentropy\", metrics=[\"accuracy\"])"
      ],
      "execution_count": null,
      "outputs": []
    },
    {
      "cell_type": "code",
      "metadata": {
        "id": "dzKx8R1QlnJ1"
      },
      "source": [
        "train_result = []\n",
        "for i in range (6):\n",
        "    train = model[i].fit(trainX, trainY,batch_size = 128, epochs = 20,\n",
        "                 validation_data=(validationX,validationY))\n",
        "    train_result.append(train)"
      ],
      "execution_count": null,
      "outputs": []
    },
    {
      "cell_type": "code",
      "metadata": {
        "id": "1vZPKRIhlnJ3"
      },
      "source": [
        "print(np.mean(train_result[0].history['accuracy']))\n",
        "print(np.mean(train_result[1].history['accuracy']))\n",
        "print(np.mean(train_result[2].history['accuracy']))\n",
        "print(np.mean(train_result[3].history['accuracy']))\n",
        "print(np.mean(train_result[4].history['accuracy']))\n",
        "print(np.mean(train_result[5].history['accuracy']))"
      ],
      "execution_count": null,
      "outputs": []
    },
    {
      "cell_type": "code",
      "metadata": {
        "id": "rr9dRjG3lnJ4"
      },
      "source": [
        "#Experiment 3 \n",
        "nets = 8\n",
        "model = [0] *nets\n",
        "\n",
        "for j in range(8):\n",
        "    model[j] = Sequential()\n",
        "    model[j].add(Conv2D(24,kernel_size=5,activation='relu',input_shape=(28,28,1)))\n",
        "    model[j].add(MaxPool2D())\n",
        "#     model[j].add(Conv2D(48,kernel_size=5,activation='relu'))\n",
        "#     model[j].add(MaxPool2D())\n",
        "    model[j].add(Flatten())\n",
        "    if j>0:\n",
        "        model[j].add(Dense(2**(j+4), activation='relu'))\n",
        "    model[j].add(Dense(10, activation='sigmoid'))\n",
        "    model[j].compile(optimizer=\"adam\", loss=\"binary_crossentropy\", metrics=[\"accuracy\"])"
      ],
      "execution_count": null,
      "outputs": []
    },
    {
      "cell_type": "code",
      "metadata": {
        "id": "1MphzojblnJ5"
      },
      "source": [
        "train_result = []\n",
        "for i in range (8):\n",
        "    train = model[i].fit(trainX, trainY,batch_size = 128, epochs = 20,\n",
        "                 validation_data=(validationX,validationY))\n",
        "    train_result.append(train)"
      ],
      "execution_count": null,
      "outputs": []
    },
    {
      "cell_type": "code",
      "metadata": {
        "id": "J1mgnryOlnJ6"
      },
      "source": [
        "print(np.mean(train_result[0].history['accuracy']))\n",
        "print(np.mean(train_result[1].history['accuracy']))\n",
        "print(np.mean(train_result[2].history['accuracy']))\n",
        "print(np.mean(train_result[3].history['accuracy']))\n",
        "print(np.mean(train_result[4].history['accuracy']))\n",
        "print(np.mean(train_result[5].history['accuracy']))\n",
        "print(np.mean(train_result[6].history['accuracy']))\n",
        "print(np.mean(train_result[7].history['accuracy']))"
      ],
      "execution_count": null,
      "outputs": []
    },
    {
      "cell_type": "code",
      "metadata": {
        "id": "hyeGBwQ9lnJ7"
      },
      "source": [
        "#Experiment4\n",
        "nets = 8\n",
        "model = [0] *nets\n",
        "\n",
        "for j in range(8):\n",
        "    model[j] = Sequential()\n",
        "    model[j].add(Conv2D(24,kernel_size=5,activation='relu',input_shape=(28,28,1)))\n",
        "    model[j].add(MaxPool2D())\n",
        "    model[j].add(Dropout(j*0.1))\n",
        "#     model[j].add(Conv2D(48,kernel_size=5,activation='relu'))\n",
        "#     model[j].add(MaxPool2D())\n",
        "#     model[j].add(Dropout(j*0.1))\n",
        "    model[j].add(Flatten())\n",
        "    model[j].add(Dense(512, activation='relu'))\n",
        "    model[j].add(Dropout(j*0.1))\n",
        "    model[j].add(Dense(10, activation='sigmoid'))\n",
        "    model[j].compile(optimizer=\"adam\", loss=\"binary_crossentropy\", metrics=[\"accuracy\"])"
      ],
      "execution_count": null,
      "outputs": []
    },
    {
      "cell_type": "code",
      "metadata": {
        "id": "RORUzrvJlnJ8"
      },
      "source": [
        "train_result = []\n",
        "for i in range (8):\n",
        "    train = model[i].fit(trainX, trainY,batch_size = 128, epochs = 20,\n",
        "                 validation_data=(validationX,validationY))\n",
        "    train_result.append(train)"
      ],
      "execution_count": null,
      "outputs": []
    },
    {
      "cell_type": "code",
      "metadata": {
        "id": "LcJlO_KMlnJ9"
      },
      "source": [
        "print(np.mean(train_result[0].history['accuracy']))\n",
        "print(np.mean(train_result[1].history['accuracy']))\n",
        "print(np.mean(train_result[2].history['accuracy']))\n",
        "print(np.mean(train_result[3].history['accuracy']))\n",
        "print(np.mean(train_result[4].history['accuracy']))\n",
        "print(np.mean(train_result[5].history['accuracy']))\n",
        "print(np.mean(train_result[6].history['accuracy']))\n",
        "print(np.mean(train_result[7].history['accuracy']))\n"
      ],
      "execution_count": null,
      "outputs": []
    },
    {
      "cell_type": "code",
      "metadata": {
        "id": "2vaTowU5lnJ9"
      },
      "source": [
        "model = Sequential()\n",
        "model.add(Conv2D(24,kernel_size=5,activation='relu',input_shape=(28,28,1)))\n",
        "model.add(MaxPool2D())\n",
        "model.add(Dropout(0.2))\n",
        "# model.add(Conv2D(48,kernel_size=5,activation='relu'))\n",
        "# model.add(MaxPool2D())\n",
        "# model.add(Dropout(0))\n",
        "model.add(Flatten())\n",
        "model.add(Dense(512, activation='relu'))\n",
        "model.add(Dropout(0.3))\n",
        "model.add(Dense(10, activation='sigmoid'))\n",
        "model.compile(optimizer=\"adam\", loss=\"binary_crossentropy\", metrics=[\"accuracy\"])"
      ],
      "execution_count": null,
      "outputs": []
    },
    {
      "cell_type": "code",
      "metadata": {
        "id": "9xRrdIQSlnJ9",
        "outputId": "3c5f5462-925e-4594-a0b8-7b06d7080ce3"
      },
      "source": [
        "train = model.fit(trainX, trainY,batch_size = 128, epochs = 20,validation_data=(validationX,validationY))"
      ],
      "execution_count": null,
      "outputs": [
        {
          "output_type": "stream",
          "text": [
            "Epoch 1/20\n",
            "391/391 [==============================] - 31s 77ms/step - loss: 0.1407 - accuracy: 0.7235 - val_loss: 0.0700 - val_accuracy: 0.8569\n",
            "Epoch 2/20\n",
            "391/391 [==============================] - 28s 72ms/step - loss: 0.0701 - accuracy: 0.8577 - val_loss: 0.0601 - val_accuracy: 0.8775\n",
            "Epoch 3/20\n",
            "391/391 [==============================] - 28s 72ms/step - loss: 0.0619 - accuracy: 0.8729 - val_loss: 0.0567 - val_accuracy: 0.8835\n",
            "Epoch 4/20\n",
            "391/391 [==============================] - 28s 72ms/step - loss: 0.0559 - accuracy: 0.8861 - val_loss: 0.0544 - val_accuracy: 0.8896\n",
            "Epoch 5/20\n",
            "391/391 [==============================] - 29s 73ms/step - loss: 0.0518 - accuracy: 0.8951 - val_loss: 0.0527 - val_accuracy: 0.8920\n",
            "Epoch 6/20\n",
            "391/391 [==============================] - 29s 73ms/step - loss: 0.0491 - accuracy: 0.9018 - val_loss: 0.0542 - val_accuracy: 0.8890\n",
            "Epoch 7/20\n",
            "391/391 [==============================] - 29s 75ms/step - loss: 0.0469 - accuracy: 0.9068 - val_loss: 0.0532 - val_accuracy: 0.8934\n",
            "Epoch 8/20\n",
            "391/391 [==============================] - 29s 74ms/step - loss: 0.0454 - accuracy: 0.9096 - val_loss: 0.0522 - val_accuracy: 0.8932\n",
            "Epoch 9/20\n",
            "391/391 [==============================] - 28s 73ms/step - loss: 0.0428 - accuracy: 0.9150 - val_loss: 0.0514 - val_accuracy: 0.8942\n",
            "Epoch 10/20\n",
            "391/391 [==============================] - 28s 73ms/step - loss: 0.0411 - accuracy: 0.9173 - val_loss: 0.0533 - val_accuracy: 0.8928\n",
            "Epoch 11/20\n",
            "391/391 [==============================] - 29s 73ms/step - loss: 0.0386 - accuracy: 0.9237 - val_loss: 0.0505 - val_accuracy: 0.8987\n",
            "Epoch 12/20\n",
            "391/391 [==============================] - 28s 73ms/step - loss: 0.0363 - accuracy: 0.9276 - val_loss: 0.0515 - val_accuracy: 0.8978\n",
            "Epoch 13/20\n",
            "391/391 [==============================] - 29s 75ms/step - loss: 0.0339 - accuracy: 0.9341 - val_loss: 0.0511 - val_accuracy: 0.8988\n",
            "Epoch 14/20\n",
            "391/391 [==============================] - 30s 77ms/step - loss: 0.0333 - accuracy: 0.9376 - val_loss: 0.0531 - val_accuracy: 0.8987\n",
            "Epoch 15/20\n",
            "391/391 [==============================] - 30s 77ms/step - loss: 0.0311 - accuracy: 0.9398 - val_loss: 0.0523 - val_accuracy: 0.8990\n",
            "Epoch 16/20\n",
            "391/391 [==============================] - 29s 75ms/step - loss: 0.0297 - accuracy: 0.9444 - val_loss: 0.0542 - val_accuracy: 0.8997\n",
            "Epoch 17/20\n",
            "391/391 [==============================] - 30s 76ms/step - loss: 0.0284 - accuracy: 0.9474 - val_loss: 0.0534 - val_accuracy: 0.9006\n",
            "Epoch 18/20\n",
            "391/391 [==============================] - 30s 76ms/step - loss: 0.0269 - accuracy: 0.9507 - val_loss: 0.0560 - val_accuracy: 0.8971\n",
            "Epoch 19/20\n",
            "391/391 [==============================] - 30s 77ms/step - loss: 0.0245 - accuracy: 0.9563 - val_loss: 0.0568 - val_accuracy: 0.8993\n",
            "Epoch 20/20\n",
            "391/391 [==============================] - 31s 79ms/step - loss: 0.0239 - accuracy: 0.9572 - val_loss: 0.0572 - val_accuracy: 0.8976\n"
          ],
          "name": "stdout"
        }
      ]
    },
    {
      "cell_type": "code",
      "metadata": {
        "id": "n4FWDd7ZlnJ_",
        "outputId": "b58349ce-2a69-4a71-f1b5-132cd827b842"
      },
      "source": [
        "x =train.history['loss']\n",
        "y = [1,2,3,4,5,6,7,8,9,10,11,12,13,14,15,16,17,18,19,20]\n",
        "plt.figure(figsize=(6, 6))\n",
        "plt.xticks(y)\n",
        "plt.xlabel('epochs')\n",
        "plt.ylabel('loss')\n",
        "plt.plot(y,x,label='training')\n",
        "x= train.history['val_loss']\n",
        "plt.plot(y,x,label='validation')\n",
        "plt.legend()\n",
        "plt.show()"
      ],
      "execution_count": null,
      "outputs": [
        {
          "output_type": "display_data",
          "data": {
            "image/png": "[encoded data removed]",
            "text/plain": [
              "<Figure size 432x432 with 1 Axes>"
            ]
          },
          "metadata": {
            "tags": [],
            "needs_background": "light"
          }
        }
      ]
    },
    {
      "cell_type": "code",
      "metadata": {
        "id": "OaZUBStTlnJ_",
        "outputId": "027dedf4-f52e-425a-84c9-efc7ee349147"
      },
      "source": [
        "x =train.history['accuracy']\n",
        "y = [1,2,3,4,5,6,7,8,9,10,11,12,13,14,15,16,17,18,19,20]\n",
        "plt.figure(figsize=(6, 6))\n",
        "plt.xticks(y)\n",
        "plt.xlabel('epochs')\n",
        "plt.ylabel('accuracy')\n",
        "plt.plot(y,x,label='training')\n",
        "x= train.history['val_accuracy']\n",
        "plt.plot(y,x,label='validation')\n",
        "plt.legend()\n",
        "plt.show()"
      ],
      "execution_count": null,
      "outputs": [
        {
          "output_type": "display_data",
          "data": {
            "image/png": "[encoded data removed]",
            "text/plain": [
              "<Figure size 432x432 with 1 Axes>"
            ]
          },
          "metadata": {
            "tags": [],
            "needs_background": "light"
          }
        }
      ]
    },
    {
      "cell_type": "code",
      "metadata": {
        "id": "KECjFkaXlnKA",
        "outputId": "838ed741-abf2-4093-c8e2-60046cd2dc98"
      },
      "source": [
        "model.evaluate(trainX, trainY, batch_size=128)\n",
        "model.evaluate(validationX,validationY,batch_size=128)\n",
        "# model.evaluate(testX,testY,batch_size=128)"
      ],
      "execution_count": null,
      "outputs": [
        {
          "output_type": "stream",
          "text": [
            "391/391 [==============================] - 7s 17ms/step - loss: 0.0451 - accuracy: 0.9110\n",
            "79/79 [==============================] - 1s 16ms/step - loss: 0.0532 - accuracy: 0.8921\n"
          ],
          "name": "stdout"
        },
        {
          "output_type": "execute_result",
          "data": {
            "text/plain": [
              "[0.05322911962866783, 0.8920999765396118]"
            ]
          },
          "metadata": {
            "tags": []
          },
          "execution_count": 8
        }
      ]
    },
    {
      "cell_type": "code",
      "metadata": {
        "id": "MAO9A8uklnKA",
        "outputId": "a48c44c9-38ac-478e-c469-8d64c98f81d8"
      },
      "source": [
        "import matplotlib\n",
        "import matplotlib.pyplot as plt\n",
        "import numpy as np\n",
        "n = 2\n",
        "ind = np.arange(n)\n",
        "width = 0.35\n",
        "x = ['Training dataset', 'Validation dataset']\n",
        "svm = [0.9121,0.8859]\n",
        "cnn = [0.9353,0.88693]\n",
        "# plt.figure(figsize=[15, 10])\n",
        "plt.figure(figsize=[8, 8])\n",
        "plt.bar(ind,svm,width = 0.35)\n",
        "plt.bar(ind+width,cnn, width = 0.35)\n",
        "plt.legend(['svm','cnn'])\n",
        "plt.xticks([i+0.175 for i in range(2)], x)\n",
        "plt.ylabel('accuracy')\n",
        "plt.show()"
      ],
      "execution_count": null,
      "outputs": [
        {
          "output_type": "display_data",
          "data": {
            "image/png": "[encoded data removed]",
            "text/plain": [
              "<Figure size 576x576 with 1 Axes>"
            ]
          },
          "metadata": {
            "tags": [],
            "needs_background": "light"
          }
        }
      ]
    },
    {
      "cell_type": "code",
      "metadata": {
        "id": "_mUNW_rylnKA"
      },
      "source": [
        ""
      ],
      "execution_count": null,
      "outputs": []
    }
  ]
}